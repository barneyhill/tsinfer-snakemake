{
 "cells": [
  {
   "cell_type": "markdown",
   "source": [
    "## Fetch VCF and index"
   ],
   "metadata": {
    "collapsed": false
   }
  },
  {
   "cell_type": "code",
   "execution_count": 13,
   "outputs": [
    {
     "name": "stdout",
     "output_type": "stream",
     "text": [
      "Will not apply HSTS. The HSTS database must be a regular and non-world-writable file.\r\n",
      "ERROR: could not open HSTS store at '/home/benj/.wget-hsts'. HSTS will be disabled.\r\n",
      "--2023-01-09 15:32:07--  http://ftp.1000genomes.ebi.ac.uk/vol1/ftp/data_collections/1000G_2504_high_coverage/working/20201028_3202_phased/CCDG_14151_B01_GRM_WGS_2020-08-05_chr22.filtered.shapeit2-duohmm-phased.vcf.gz\r\n",
      "Resolving ftp.1000genomes.ebi.ac.uk (ftp.1000genomes.ebi.ac.uk)... 193.62.193.140\r\n",
      "Connecting to ftp.1000genomes.ebi.ac.uk (ftp.1000genomes.ebi.ac.uk)|193.62.193.140|:80... connected.\r\n",
      "HTTP request sent, awaiting response... 200 OK\r\n",
      "Length: 519930289 (496M) [application/x-gzip]\r\n",
      "Saving to: ‘data/chr22.vcf.gz’\r\n",
      "\r\n",
      "data/chr22.vcf.gz   100%[===================>] 495.84M  2.75MB/s    in 5m 52s  \r\n",
      "\r\n",
      "2023-01-09 15:37:59 (1.41 MB/s) - ‘data/chr22.vcf.gz’ saved [519930289/519930289]\r\n",
      "\r\n"
     ]
    }
   ],
   "source": [
    "! mkdir -p data\n",
    "! wget -O data/chr22.vcf.gz http://ftp.1000genomes.ebi.ac.uk/vol1/ftp/data_collections/1000G_2504_high_coverage/working/20201028_3202_phased/CCDG_14151_B01_GRM_WGS_2020-08-05_chr22.filtered.shapeit2-duohmm-phased.vcf.gz"
   ],
   "metadata": {
    "collapsed": false
   }
  },
  {
   "cell_type": "code",
   "execution_count": 6,
   "outputs": [],
   "source": [
    "! tabix -f -p vcf data/chr22.vcf.gz"
   ],
   "metadata": {
    "collapsed": false
   }
  },
  {
   "cell_type": "markdown",
   "source": [
    "## Fetch ancestral alleles and index"
   ],
   "metadata": {
    "collapsed": false
   }
  },
  {
   "cell_type": "code",
   "execution_count": 9,
   "outputs": [
    {
     "name": "stdout",
     "output_type": "stream",
     "text": [
      "Will not apply HSTS. The HSTS database must be a regular and non-world-writable file.\r\n",
      "ERROR: could not open HSTS store at '/home/benj/.wget-hsts'. HSTS will be disabled.\r\n",
      "--2022-12-19 16:12:04--  ftp://ftp.ensembl.org/pub/release-100/fasta/ancestral_alleles/homo_sapiens_ancestor_GRCh38.tar.gz\r\n",
      "           => ‘data/ancestral_alleles.tar.gz’\r\n",
      "Resolving ftp.ensembl.org (ftp.ensembl.org)... 193.62.193.139\r\n",
      "Connecting to ftp.ensembl.org (ftp.ensembl.org)|193.62.193.139|:21... connected.\r\n",
      "Logging in as anonymous ... Logged in!\r\n",
      "==> SYST ... done.    ==> PWD ... done.\r\n",
      "==> TYPE I ... done.  ==> CWD (1) /pub/release-100/fasta/ancestral_alleles ... done.\r\n",
      "==> SIZE homo_sapiens_ancestor_GRCh38.tar.gz ... 852605016\r\n",
      "==> PASV ... done.    ==> RETR homo_sapiens_ancestor_GRCh38.tar.gz ... done.\r\n",
      "Length: 852605016 (813M) (unauthoritative)\r\n",
      "\r\n",
      "homo_sapiens_ancest 100%[===================>] 813.11M  5.98MB/s    in 2m 42s  \r\n",
      "\r\n",
      "2022-12-19 16:14:46 (5.02 MB/s) - ‘data/ancestral_alleles.tar.gz’ saved [852605016]\r\n",
      "\r\n"
     ]
    }
   ],
   "source": [
    "! wget -O data/ancestral_alleles.tar.gz  ftp://ftp.ensembl.org/pub/release-100/fasta/ancestral_alleles/homo_sapiens_ancestor_GRCh38.tar.gz"
   ],
   "metadata": {
    "collapsed": false
   }
  },
  {
   "cell_type": "code",
   "execution_count": 12,
   "outputs": [],
   "source": [
    "! cd data && tar -xzf ancestral_alleles.tar.gz"
   ],
   "metadata": {
    "collapsed": false
   }
  },
  {
   "cell_type": "code",
   "execution_count": 13,
   "outputs": [],
   "source": [
    "! samtools faidx data/homo_sapiens_ancestor_GRCh38/homo_sapiens_ancestor_22.fa"
   ],
   "metadata": {
    "collapsed": false
   }
  },
  {
   "cell_type": "markdown",
   "source": [
    "## Convert VCF to an sgkit dataset"
   ],
   "metadata": {
    "collapsed": false
   }
  },
  {
   "cell_type": "code",
   "execution_count": 3,
   "outputs": [
    {
     "name": "stdout",
     "output_type": "stream",
     "text": [
      "CPU times: user 13.2 s, sys: 798 ms, total: 14 s\n",
      "Wall time: 13.8 s\n"
     ]
    }
   ],
   "source": [
    "%%time\n",
    "import sgkit as sg\n",
    "import dask.array as da\n",
    "from sgkit.io.vcf import vcf_to_zarr"
   ],
   "metadata": {
    "collapsed": false
   }
  },
  {
   "cell_type": "code",
   "execution_count": 14,
   "outputs": [
    {
     "name": "stdout",
     "output_type": "stream",
     "text": [
      "CPU times: user 8min 15s, sys: 33.2 s, total: 8min 48s\n",
      "Wall time: 2min 24s\n"
     ]
    }
   ],
   "source": [
    "%%time\n",
    "vcf_to_zarr(\"data/chr22.vcf.gz\", \"data/chr22.zarr\")"
   ],
   "metadata": {
    "collapsed": false
   }
  },
  {
   "cell_type": "markdown",
   "source": [
    "## Remove sites with duplicate positions"
   ],
   "metadata": {
    "collapsed": false
   }
  },
  {
   "cell_type": "code",
   "execution_count": 6,
   "outputs": [],
   "source": [
    "ds = sg.load_dataset(\"data/chr22.zarr\")\n",
    "pos = ds['variant_position']\n",
    "pos_shift_left = da.full_like(pos,-1)\n",
    "pos_shift_left[0:-1] = pos[1:]\n",
    "pos_shift_right = da.full_like(pos,-1)\n",
    "pos_shift_right[1:] = pos[:-1]\n",
    "wanted_variants = da.logical_and(pos != pos_shift_left, pos != pos_shift_right)\n",
    "ds = ds.sel(variants=wanted_variants)\n",
    "# Subsetting the variants causes unequal chunk sizes, so we need to rechunk for zarr (sgkit/\n",
    "ds = ds.chunk(chunks={dim: max(chunks) for dim, chunks in ds.chunks.items()})\n",
    "sg.save_dataset(ds, \"data/chr22.remove_dups.zarr\")"
   ],
   "metadata": {
    "collapsed": false
   }
  },
  {
   "cell_type": "code",
   "execution_count": null,
   "outputs": [
    {
     "name": "stderr",
     "output_type": "stream",
     "text": [
      "ga-add   (1/6)100%|██████████| 971k/971k [00:35, 27.1kit/s] \n",
      "No sites used for inference\n",
      "ma-match (2/6)  0%|          | 0.00/0.00 [00:00, ?it/s]\n",
      "No sites used for inference\n",
      "ms-muts  (3/6)  0%|          | 0.00/0.00 [00:00, ?it/s]\n",
      "ms-xsites (4/6)100%|█████████▉| 971k/971k [10:22, 1.60kit/s] "
     ]
    }
   ],
   "source": [
    "%%time\n",
    "import tsinfer\n",
    "sampledata = tsinfer.SgkitSampleData(\"data/chr22.remove_dups.zarr\")\n",
    "inf_ts = tsinfer.infer(sampledata, num_threads=4, progress_monitor=True)"
   ],
   "metadata": {
    "collapsed": false,
    "pycharm": {
     "is_executing": true
    }
   }
  }
 ],
 "metadata": {
  "kernelspec": {
   "display_name": "Python 3",
   "language": "python",
   "name": "python3"
  },
  "language_info": {
   "codemirror_mode": {
    "name": "ipython",
    "version": 2
   },
   "file_extension": ".py",
   "mimetype": "text/x-python",
   "name": "python",
   "nbconvert_exporter": "python",
   "pygments_lexer": "ipython2",
   "version": "2.7.6"
  }
 },
 "nbformat": 4,
 "nbformat_minor": 0
}
