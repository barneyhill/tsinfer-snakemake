{
 "cells": [
  {
   "cell_type": "markdown",
   "source": [
    "## Fetch VCF and index"
   ],
   "metadata": {
    "collapsed": false
   }
  },
  {
   "cell_type": "code",
   "execution_count": 13,
   "outputs": [],
   "source": [
    "import sgkit\n",
    "! mkdir -p data\n",
    "! test ! -e data/chr22.vcf.gz && wget -O data/chr22.vcf.gz http://ftp.1000genomes.ebi.ac.uk/vol1/ftp/data_collections/1000G_2504_high_coverage/working/20201028_3202_phased/CCDG_14151_B01_GRM_WGS_2020-08-05_chr22.filtered.shapeit2-duohmm-phased.vcf.gz"
   ],
   "metadata": {
    "collapsed": false
   }
  },
  {
   "cell_type": "code",
   "execution_count": 15,
   "outputs": [],
   "source": [
    "! test ! -e data/chr22.vcf.gz.tbi && tabix -f -p vcf data/chr22.vcf.gz"
   ],
   "metadata": {
    "collapsed": false
   }
  },
  {
   "cell_type": "markdown",
   "source": [
    "## Fetch ancestral alleles and index"
   ],
   "metadata": {
    "collapsed": false
   }
  },
  {
   "cell_type": "code",
   "execution_count": 16,
   "outputs": [
    {
     "name": "stdout",
     "output_type": "stream",
     "text": [
      "Will not apply HSTS. The HSTS database must be a regular and non-world-writable file.\r\n",
      "ERROR: could not open HSTS store at '/home/benj/.wget-hsts'. HSTS will be disabled.\r\n",
      "--2023-01-19 00:40:39--  ftp://ftp.ensembl.org/pub/release-100/fasta/ancestral_alleles/homo_sapiens_ancestor_GRCh38.tar.gz\r\n",
      "           => ‘data/ancestral_alleles.tar.gz’\r\n",
      "Resolving ftp.ensembl.org (ftp.ensembl.org)... 193.62.193.139\r\n",
      "Connecting to ftp.ensembl.org (ftp.ensembl.org)|193.62.193.139|:21... connected.\r\n",
      "Logging in as anonymous ... Logged in!\r\n",
      "==> SYST ... done.    ==> PWD ... done.\r\n",
      "==> TYPE I ... done.  ==> CWD (1) /pub/release-100/fasta/ancestral_alleles ... done.\r\n",
      "==> SIZE homo_sapiens_ancestor_GRCh38.tar.gz ... 852605016\r\n",
      "==> PASV ... done.    ==> RETR homo_sapiens_ancestor_GRCh38.tar.gz ... done.\r\n",
      "Length: 852605016 (813M) (unauthoritative)\r\n",
      "\r\n",
      "homo_sapiens_ancest 100%[===================>] 813.11M  5.30MB/s    in 2m 33s  \r\n",
      "\r\n",
      "2023-01-19 00:43:12 (5.33 MB/s) - ‘data/ancestral_alleles.tar.gz’ saved [852605016]\r\n",
      "\r\n"
     ]
    }
   ],
   "source": [
    "! test ! -e data/ancestral_alleles.tar.gz && wget -O data/ancestral_alleles.tar.gz  ftp://ftp.ensembl.org/pub/release-100/fasta/ancestral_alleles/homo_sapiens_ancestor_GRCh38.tar.gz"
   ],
   "metadata": {
    "collapsed": false
   }
  },
  {
   "cell_type": "code",
   "execution_count": 17,
   "outputs": [],
   "source": [
    "! cd data && tar -xzf ancestral_alleles.tar.gz"
   ],
   "metadata": {
    "collapsed": false
   }
  },
  {
   "cell_type": "code",
   "execution_count": 18,
   "outputs": [],
   "source": [
    "! samtools faidx data/homo_sapiens_ancestor_GRCh38/homo_sapiens_ancestor_22.fa"
   ],
   "metadata": {
    "collapsed": false
   }
  },
  {
   "cell_type": "markdown",
   "source": [
    "## Convert VCF to an sgkit dataset"
   ],
   "metadata": {
    "collapsed": false
   }
  },
  {
   "cell_type": "code",
   "execution_count": 1,
   "outputs": [
    {
     "name": "stdout",
     "output_type": "stream",
     "text": [
      "CPU times: user 1.52 s, sys: 421 ms, total: 1.94 s\n",
      "Wall time: 2.27 s\n"
     ]
    }
   ],
   "source": [
    "%%time\n",
    "import sgkit as sg\n",
    "import xarray as xr\n",
    "import numpy as np\n",
    "import dask.array as da\n",
    "from sgkit.io.vcf import vcf_to_zarr"
   ],
   "metadata": {
    "collapsed": false
   }
  },
  {
   "cell_type": "code",
   "execution_count": 2,
   "outputs": [
    {
     "name": "stdout",
     "output_type": "stream",
     "text": [
      "CPU times: user 7min 44s, sys: 28.3 s, total: 8min 12s\n",
      "Wall time: 2min 47s\n"
     ]
    }
   ],
   "source": [
    "%%time\n",
    "vcf_to_zarr(\"data/chr22.vcf.gz\", \"data/chr22.zarr\")"
   ],
   "metadata": {
    "collapsed": false
   }
  },
  {
   "cell_type": "markdown",
   "source": [
    "# Load ancestral states from fasta and save to dataset"
   ],
   "metadata": {
    "collapsed": false
   }
  },
  {
   "cell_type": "code",
   "execution_count": 3,
   "outputs": [
    {
     "name": "stdout",
     "output_type": "stream",
     "text": [
      "Seen states:\n",
      "- 51535\n",
      ". 141300\n",
      "A 130150\n",
      "C 252721\n",
      "G 236782\n",
      "N 8216\n",
      "T 127890\n",
      "a 21735\n",
      "c 40884\n",
      "g 37531\n",
      "t 21657\n"
     ]
    }
   ],
   "source": [
    "import pysam\n",
    "import sys\n",
    "fasta = pysam.FastaFile(\"data/homo_sapiens_ancestor_GRCh38/homo_sapiens_ancestor_22.fa\")\n",
    "# NB! We put in an extra character at the start to convert to 1 based coords.\n",
    "codec = 'utf-32-le' if sys.byteorder == 'little' else 'utf-32-be'\n",
    "ancestral_sequence = \"X\" + fasta.fetch(reference=fasta.references[0])\n",
    "ancestral_sequence = np.frombuffer(bytearray(ancestral_sequence,codec), dtype=\"U1\")\n",
    "# From the ancestral states README:\n",
    "# The convention for the sequence is:\n",
    "#    ACTG : high-confidence call, ancestral state supported by other 2 sequences\n",
    "#    actg : low-confidence call, ancestral state supported by one sequence only\n",
    "#    N    : failure, the ancestral state is not supported by any other sequence\n",
    "#    -    : the extant species contains an insertion at this position\n",
    "#    .    : no coverage in the alignment\n",
    "ds = sg.load_dataset(\"data/chr22.zarr\")\n",
    "ancestral_states = ancestral_sequence[ds['variant_position'].values]\n",
    "ancestral_states = xr.DataArray(data=ancestral_states, dims=[\"variants\"], name=\"variant_ancestral_state\")\n",
    "print(\"Seen states:\")\n",
    "for val, count in zip(*np.unique(ancestral_states, return_counts=True)):\n",
    "    print(val, count)\n",
    "ds.update({\"variant_ancestral_state\": ancestral_states})\n",
    "sg.save_dataset(ds.drop_vars(set(ds.data_vars) - {\"variant_ancestral_state\"}), \"data/chr22.zarr\", mode=\"a\")"
   ],
   "metadata": {
    "collapsed": false
   }
  },
  {
   "cell_type": "markdown",
   "source": [
    "## Create a mask of sites that have bad ancestral states"
   ],
   "metadata": {
    "collapsed": false
   }
  },
  {
   "cell_type": "code",
   "execution_count": 4,
   "outputs": [
    {
     "name": "stdout",
     "output_type": "stream",
     "text": [
      "201051 sites masked out for bad ancestral state\n"
     ]
    }
   ],
   "source": [
    "ds = sg.load_dataset(\"data/chr22.zarr\")\n",
    "wanted_variants = da.logical_and(ds['variant_ancestral_state'] != '-',\n",
    "                     da.logical_and(ds['variant_ancestral_state'] != '.', ds['variant_ancestral_state'] != 'N'))\n",
    "wanted_variants = wanted_variants.chunk((10000,))\n",
    "ds.update({\"variant_bad_ancestral_mask\": xr.DataArray(data=wanted_variants, dims=[\"variants\"], name=\"variant_bad_ancestral_mask\")})\n",
    "sg.save_dataset(ds.drop_vars(set(ds.data_vars) - {\"variant_bad_ancestral_mask\"}), \"data/chr22.zarr\", mode=\"a\")\n",
    "print(f\"{da.sum(~wanted_variants).compute()} sites masked out for bad ancestral state\")\n",
    "assert set(np.unique(ds['variant_ancestral_state'][wanted_variants])) == {'A', 'C', 'G', 'T', 'a', 'c', 'g', 't'}"
   ],
   "metadata": {
    "collapsed": false
   }
  },
  {
   "cell_type": "markdown",
   "source": [
    "## Create a mask of duplicate positions"
   ],
   "metadata": {
    "collapsed": false
   }
  },
  {
   "cell_type": "code",
   "execution_count": 5,
   "outputs": [
    {
     "name": "stdout",
     "output_type": "stream",
     "text": [
      "99504 sites masked out for duplicate position\n"
     ]
    }
   ],
   "source": [
    "ds = sg.load_dataset(\"data/chr22.zarr\")\n",
    "pos = ds['variant_position']\n",
    "pos_shift_left = da.full_like(pos,-1)\n",
    "pos_shift_left[0:-1] = pos[1:]\n",
    "pos_shift_right = da.full_like(pos,-1)\n",
    "pos_shift_right[1:] = pos[:-1]\n",
    "wanted_variants = da.logical_and(pos != pos_shift_left, pos != pos_shift_right)\n",
    "ds.update({\"variant_duplicate_position_mask\": xr.DataArray(data=wanted_variants, dims=[\"variants\"], name=\"variant_duplicate_position_mask\")})\n",
    "sg.save_dataset(ds.drop_vars(set(ds.data_vars) - {\"variant_duplicate_position_mask\"}), \"data/chr22.zarr\", mode=\"a\")\n",
    "print(f\"{da.sum(~wanted_variants).compute()} sites masked out for duplicate position\")"
   ],
   "metadata": {
    "collapsed": false
   }
  },
  {
   "cell_type": "markdown",
   "source": [
    "## Create the combined mask"
   ],
   "metadata": {
    "collapsed": false
   }
  },
  {
   "cell_type": "code",
   "execution_count": 6,
   "outputs": [
    {
     "name": "stdout",
     "output_type": "stream",
     "text": [
      "276599 sites masked out\n"
     ]
    }
   ],
   "source": [
    "## Create the combined mask\n",
    "ds = sg.load_dataset(\"data/chr22.zarr\")\n",
    "wanted_variants = da.logical_and(ds['variant_duplicate_position_mask'], ds['variant_bad_ancestral_mask'])\n",
    "ds.update({\"variant_mask\": xr.DataArray(data=wanted_variants, dims=[\"variants\"], name=\"variant_mask\")})\n",
    "sg.save_dataset(ds.drop_vars(set(ds.data_vars) - {\"variant_mask\"}), \"data/chr22.zarr\", mode=\"a\")\n",
    "print(f\"{da.sum(~wanted_variants).compute()} sites masked out\")"
   ],
   "metadata": {
    "collapsed": false
   }
  },
  {
   "cell_type": "code",
   "execution_count": 10,
   "outputs": [],
   "source": [
    "ds = sg.load_dataset(\"data/chr22.zarr\")"
   ],
   "metadata": {
    "collapsed": false
   }
  },
  {
   "cell_type": "markdown",
   "source": [
    "## Take a subset of the samples for testing"
   ],
   "metadata": {
    "collapsed": false
   }
  },
  {
   "cell_type": "code",
   "execution_count": 12,
   "outputs": [
    {
     "name": "stderr",
     "output_type": "stream",
     "text": [
      "/home/benj/projects/ukb/nygc1000_notebook/env/lib/python3.10/site-packages/xarray/conventions.py:205: SerializationWarning: variable None has data in the form of a dask array with dtype=object, which means it is being loaded into memory to determine a data type that can be safely stored on disk. To avoid this, coerce this variable to a fixed-size dtype with astype() before saving it.\n",
      "  warnings.warn(\n",
      "/home/benj/projects/ukb/nygc1000_notebook/env/lib/python3.10/site-packages/xarray/conventions.py:205: SerializationWarning: variable None has data in the form of a dask array with dtype=object, which means it is being loaded into memory to determine a data type that can be safely stored on disk. To avoid this, coerce this variable to a fixed-size dtype with astype() before saving it.\n",
      "  warnings.warn(\n"
     ]
    }
   ],
   "source": [
    "ds = sg.load_dataset(\"data/chr22.zarr\")\n",
    "wanted_samples = np.zeros((ds.sizes['samples'],), dtype=bool)\n",
    "wanted_samples[:100] = True\n",
    "ds = ds.sel(samples=wanted_samples)\n",
    "sg.save_dataset(ds, \"data/chr22.subset.zarr\")"
   ],
   "metadata": {
    "collapsed": false
   }
  },
  {
   "cell_type": "code",
   "execution_count": 1,
   "outputs": [
    {
     "name": "stdout",
     "output_type": "stream",
     "text": [
      "CPU times: user 701 ms, sys: 706 ms, total: 1.41 s\n",
      "Wall time: 686 ms\n"
     ]
    }
   ],
   "source": [
    "%%time\n",
    "import tsinfer\n",
    "import tskit\n",
    "import numpy as np\n",
    "sample_data = tsinfer.SgkitSampleData(\"data/chr22.subset.zarr\")\n",
    "args = {\n",
    "    \"num_threads\": 8,\n",
    "    \"progress_monitor\": tsinfer.progress.ProgressMonitor(),\n",
    "}"
   ],
   "metadata": {
    "collapsed": false
   }
  },
  {
   "cell_type": "code",
   "execution_count": 3,
   "outputs": [
    {
     "name": "stderr",
     "output_type": "stream",
     "text": [
      "ga-add   (1/0)100%|██████████| 794k/794k [00:19, 41.4kit/s] \n",
      "ga-gen   (2/0)100%|██████████| 60.0k/60.0k [03:47, 264it/s]\n"
     ]
    },
    {
     "name": "stdout",
     "output_type": "stream",
     "text": [
      "CPU times: user 4min 19s, sys: 4.32 s, total: 4min 24s\n",
      "Wall time: 4min 6s\n"
     ]
    }
   ],
   "source": [
    "%%time\n",
    "inf_ts = tsinfer.generate_ancestors(sample_data, path=\"data/chr22.subset.ancestors\", **args)"
   ],
   "metadata": {
    "collapsed": false
   }
  },
  {
   "cell_type": "code",
   "execution_count": 7,
   "outputs": [
    {
     "name": "stderr",
     "output_type": "stream",
     "text": [
      "ma-match (3/0)100%|█████████▉| 59.9k/60.0k [01:16, 627it/s]\n",
      "ms-muts  (4/0)  0%|          | 0.00/127k [00:00, ?it/s]\u001B[A\n",
      "ms-muts  (4/0)  0%|          | 1.00/127k [00:00, 3.08it/s]\u001B[A\n",
      "ms-muts  (4/0)  5%|▍         | 5.89k/127k [00:00, 14.0kit/s]\u001B[A\n",
      "ms-muts  (4/0)  9%|▉         | 11.9k/127k [00:00, 22.9kit/s]\u001B[A\n",
      "ms-muts  (4/0) 14%|█▍        | 18.0k/127k [00:00, 29.1kit/s]\u001B[A\n",
      "ms-muts  (4/0) 19%|█▉        | 24.2k/127k [00:00, 33.7kit/s]\u001B[A\n",
      "ms-muts  (4/0) 24%|██▍       | 30.4k/127k [00:00, 37.3kit/s]\u001B[A\n",
      "ms-muts  (4/0) 29%|██▉       | 36.8k/127k [00:00, 40.3kit/s]\u001B[A\n",
      "ms-muts  (4/0) 34%|███▍      | 43.1k/127k [00:01, 42.6kit/s]\u001B[A\n",
      "ms-muts  (4/0) 39%|███▉      | 49.4k/127k [00:01, 44.5kit/s]\u001B[A\n",
      "ms-muts  (4/0) 44%|████▍     | 55.6k/127k [00:01, 46.1kit/s]\u001B[A\n",
      "ms-muts  (4/0) 49%|████▉     | 61.9k/127k [00:01, 47.4kit/s]\u001B[A\n",
      "ms-muts  (4/0) 54%|█████▎    | 68.2k/127k [00:01, 48.5kit/s]\u001B[A\n",
      "ms-muts  (4/0) 58%|█████▊    | 74.2k/127k [00:01, 49.3kit/s]\u001B[A\n",
      "ms-muts  (4/0) 63%|██████▎   | 80.0k/127k [00:01, 50.0kit/s]\u001B[A\n",
      "ms-muts  (4/0) 68%|██████▊   | 85.9k/127k [00:01, 50.5kit/s]\u001B[A\n",
      "ms-muts  (4/0) 72%|███████▏  | 91.9k/127k [00:01, 51.0kit/s]\u001B[A\n",
      "ms-muts  (4/0) 77%|███████▋  | 97.7k/127k [00:01, 51.5kit/s]\u001B[A\n",
      "ms-muts  (4/0) 82%|████████▏ | 104k/127k [00:02, 52.0kit/s] \u001B[A\n",
      "ms-muts  (4/0) 87%|████████▋ | 110k/127k [00:02, 52.5kit/s]\u001B[A\n",
      "ms-muts  (4/0) 92%|█████████▏| 116k/127k [00:02, 53.1kit/s]\u001B[A\n",
      "ms-muts  (4/0)100%|██████████| 127k/127k [00:02, 52.8kit/s]\u001B[A\n",
      "ma-match (3/0)100%|█████████▉| 60.0k/60.0k [01:19, 756it/s]\n"
     ]
    },
    {
     "name": "stdout",
     "output_type": "stream",
     "text": [
      "CPU times: user 7min 54s, sys: 4.62 s, total: 7min 59s\n",
      "Wall time: 1min 20s\n"
     ]
    }
   ],
   "source": [
    "%%time\n",
    "ancestors = tsinfer.AncestorData.load(\"data/chr22.subset.ancestors\")\n",
    "ancestors_ts = tsinfer.match_ancestors(sample_data, ancestors, **args)\n",
    "ancestors_ts.dump(\"data/chr22.subset.ancestors.trees\")"
   ],
   "metadata": {
    "collapsed": false
   }
  },
  {
   "cell_type": "code",
   "execution_count": 5,
   "outputs": [
    {
     "name": "stderr",
     "output_type": "stream",
     "text": [
      "ms-match (1/0)100%|██████████| 100/100 [00:05, 19.9it/s] "
     ]
    },
    {
     "name": "stdout",
     "output_type": "stream",
     "text": [
      "CPU times: user 36.5 s, sys: 237 ms, total: 36.8 s\n",
      "Wall time: 8.92 s\n"
     ]
    },
    {
     "name": "stderr",
     "output_type": "stream",
     "text": [
      "\n"
     ]
    }
   ],
   "source": [
    "%%time\n",
    "ancestors_ts = tskit.load(\"data/chr22.subset.ancestors.trees\")\n",
    "tsinfer.match_sample_slice(\n",
    "                    sample_data,\n",
    "                    ancestors_ts,\n",
    "                    indexes=np.arange(\n",
    "                        0, sample_data.num_samples // 2\n",
    "                    ),\n",
    "                    slice_path=\"data/chr22.subset.ancestors.1.slice\",\n",
    "                    **args\n",
    "                )"
   ],
   "metadata": {
    "collapsed": false
   }
  },
  {
   "cell_type": "code",
   "execution_count": 6,
   "outputs": [
    {
     "name": "stderr",
     "output_type": "stream",
     "text": [
      "ms-match (2/0)100%|██████████| 100/100 [00:07, 12.8it/s] \n"
     ]
    },
    {
     "name": "stdout",
     "output_type": "stream",
     "text": [
      "CPU times: user 40.2 s, sys: 199 ms, total: 40.4 s\n",
      "Wall time: 11.8 s\n"
     ]
    }
   ],
   "source": [
    "%%time\n",
    "ancestors_ts = tskit.load(\"data/chr22.subset.ancestors.trees\")\n",
    "tsinfer.match_sample_slice(\n",
    "                    sample_data,\n",
    "                    ancestors_ts,\n",
    "                    indexes=np.arange(\n",
    "                        sample_data.num_samples // 2, sample_data.num_samples\n",
    "                    ),\n",
    "                    slice_path=\"data/chr22.subset.ancestors.2.slice\",\n",
    "                    **args\n",
    "                )"
   ],
   "metadata": {
    "collapsed": false
   }
  },
  {
   "cell_type": "code",
   "execution_count": 3,
   "outputs": [
    {
     "name": "stderr",
     "output_type": "stream",
     "text": [
      "\n",
      "ms-load  (1/0)100%|██████████| 2.00/2.00 [00:00, 357it/s]A\n",
      "\n",
      "ms-paths (2/0)  0%|          | 0.00/200 [00:00, ?it/s]\u001B[A\n",
      "ms-paths (2/0) 25%|██▌       | 50.0/200 [00:00, 498it/s]\u001B[A\n",
      "ms-paths (2/0) 50%|█████     | 100/200 [00:00, 465it/s] \u001B[A\n",
      "ms-paths (2/0) 74%|███████▎  | 147/200 [00:00, 455it/s]\u001B[A\n",
      "ms-paths (2/0)100%|██████████| 200/200 [00:00, 429it/s]\u001B[A\n",
      "\n",
      "ms-muts  (3/0)  0%|          | 0.00/127k [00:00, ?it/s]\u001B[A\n",
      "ms-muts  (3/0)  0%|          | 1.00/127k [00:00, 2.88it/s]\u001B[A\n",
      "ms-muts  (3/0)  2%|▏         | 2.85k/127k [00:00, 6.43kit/s]\u001B[A\n",
      "ms-muts  (3/0)  4%|▍         | 5.70k/127k [00:00, 10.5kit/s]\u001B[A\n",
      "ms-muts  (3/0)  7%|▋         | 8.57k/127k [00:00, 13.4kit/s]\u001B[A\n",
      "ms-muts  (3/0)  9%|▉         | 11.4k/127k [00:00, 15.5kit/s]\u001B[A\n",
      "ms-muts  (3/0) 11%|█▏        | 14.3k/127k [00:00, 17.1kit/s]\u001B[A\n",
      "ms-muts  (3/0) 13%|█▎        | 17.1k/127k [00:00, 18.3kit/s]\u001B[A\n",
      "ms-muts  (3/0) 16%|█▌        | 20.0k/127k [00:01, 19.4kit/s]\u001B[A\n",
      "ms-muts  (3/0) 18%|█▊        | 22.8k/127k [00:01, 20.2kit/s]\u001B[A\n",
      "ms-muts  (3/0) 20%|██        | 25.7k/127k [00:01, 20.9kit/s]\u001B[A\n",
      "ms-muts  (3/0) 22%|██▏       | 28.4k/127k [00:01, 21.4kit/s]\u001B[A\n",
      "ms-muts  (3/0) 25%|██▍       | 31.2k/127k [00:01, 21.9kit/s]\u001B[A\n",
      "ms-muts  (3/0) 27%|██▋       | 34.0k/127k [00:01, 22.3kit/s]\u001B[A\n",
      "ms-muts  (3/0) 29%|██▉       | 36.8k/127k [00:01, 22.7kit/s]\u001B[A\n",
      "ms-muts  (3/0) 31%|███       | 39.6k/127k [00:01, 23.0kit/s]\u001B[A\n",
      "ms-muts  (3/0) 33%|███▎      | 42.4k/127k [00:01, 23.3kit/s]\u001B[A\n",
      "ms-muts  (3/0) 36%|███▌      | 45.2k/127k [00:01, 23.6kit/s]\u001B[A\n",
      "ms-muts  (3/0) 38%|███▊      | 48.2k/127k [00:02, 23.9kit/s]\u001B[A\n",
      "ms-muts  (3/0) 40%|████      | 51.1k/127k [00:02, 24.1kit/s]\u001B[A\n",
      "ms-muts  (3/0) 42%|████▏     | 53.9k/127k [00:02, 24.4kit/s]\u001B[A\n",
      "ms-muts  (3/0) 45%|████▍     | 56.9k/127k [00:02, 24.6kit/s]\u001B[A\n",
      "ms-muts  (3/0) 47%|████▋     | 59.7k/127k [00:02, 24.8kit/s]\u001B[A\n",
      "ms-muts  (3/0) 49%|████▉     | 62.4k/127k [00:02, 24.9kit/s]\u001B[A\n",
      "ms-muts  (3/0) 51%|█████▏    | 65.2k/127k [00:02, 25.0kit/s]\u001B[A\n",
      "ms-muts  (3/0) 54%|█████▎    | 68.1k/127k [00:02, 25.2kit/s]\u001B[A\n",
      "ms-muts  (3/0) 56%|█████▌    | 71.0k/127k [00:02, 25.3kit/s]\u001B[A\n",
      "ms-muts  (3/0) 58%|█████▊    | 73.9k/127k [00:02, 25.5kit/s]\u001B[A\n",
      "ms-muts  (3/0) 60%|██████    | 76.8k/127k [00:03, 25.6kit/s]\u001B[A\n",
      "ms-muts  (3/0) 63%|██████▎   | 79.7k/127k [00:03, 25.7kit/s]\u001B[A\n",
      "ms-muts  (3/0) 65%|██████▍   | 82.6k/127k [00:03, 25.8kit/s]\u001B[A\n",
      "ms-muts  (3/0) 67%|██████▋   | 85.5k/127k [00:03, 25.9kit/s]\u001B[A\n",
      "ms-muts  (3/0) 70%|██████▉   | 88.3k/127k [00:03, 26.0kit/s]\u001B[A\n",
      "ms-muts  (3/0) 72%|███████▏  | 91.2k/127k [00:03, 26.1kit/s]\u001B[A\n",
      "ms-muts  (3/0) 74%|███████▍  | 94.1k/127k [00:03, 26.2kit/s]\u001B[A\n",
      "ms-muts  (3/0) 76%|███████▋  | 97.0k/127k [00:03, 26.3kit/s]\u001B[A\n",
      "ms-muts  (3/0) 79%|███████▊  | 99.8k/127k [00:03, 26.3kit/s]\u001B[A\n",
      "ms-muts  (3/0) 81%|████████  | 103k/127k [00:03, 26.4kit/s] \u001B[A\n",
      "ms-muts  (3/0) 83%|████████▎ | 105k/127k [00:04, 26.4kit/s]\u001B[A\n",
      "ms-muts  (3/0) 85%|████████▌ | 108k/127k [00:04, 26.5kit/s]\u001B[A\n",
      "ms-muts  (3/0) 88%|████████▊ | 111k/127k [00:04, 26.6kit/s]\u001B[A\n",
      "ms-muts  (3/0) 90%|████████▉ | 114k/127k [00:04, 26.7kit/s]\u001B[A\n",
      "ms-muts  (3/0) 92%|█████████▏| 117k/127k [00:04, 26.7kit/s]\u001B[A\n",
      "ms-muts  (3/0) 94%|█████████▍| 120k/127k [00:04, 26.8kit/s]\u001B[A\n",
      "ms-muts  (3/0) 97%|█████████▋| 123k/127k [00:04, 26.8kit/s]\u001B[A\n",
      "ms-muts  (3/0)100%|██████████| 127k/127k [00:04, 26.4kit/s]\u001B[A\n",
      "\n",
      "ms-xsites (4/0)  0%|          | 0.00/667k [00:00, ?it/s]\u001B[A\n",
      "ms-xsites (4/0)  0%|          | 1.00/667k [00:00, 2.67it/s]\u001B[A\n",
      "ms-xsites (4/0)  0%|          | 1.72k/667k [00:00, 3.65kit/s]\u001B[A\n",
      "ms-xsites (4/0)  1%|          | 3.38k/667k [00:00, 5.94kit/s]\u001B[A\n",
      "ms-xsites (4/0)  1%|          | 5.12k/667k [00:00, 7.68kit/s]\u001B[A\n",
      "ms-xsites (4/0)  1%|          | 6.87k/667k [00:00, 8.97kit/s]\u001B[A\n",
      "ms-xsites (4/0)  1%|▏         | 8.53k/667k [00:00, 9.88kit/s]\u001B[A\n",
      "ms-xsites (4/0)  2%|▏         | 10.3k/667k [00:00, 10.7kit/s]\u001B[A\n",
      "ms-xsites (4/0)  2%|▏         | 11.9k/667k [00:01, 11.3kit/s]\u001B[A\n",
      "ms-xsites (4/0)  2%|▏         | 13.6k/667k [00:01, 11.8kit/s]\u001B[A\n",
      "ms-xsites (4/0)  2%|▏         | 15.5k/667k [00:01, 12.3kit/s]\u001B[A\n",
      "ms-xsites (4/0)  3%|▎         | 17.2k/667k [00:01, 12.7kit/s]\u001B[A\n",
      "ms-xsites (4/0)  3%|▎         | 19.0k/667k [00:01, 13.1kit/s]\u001B[A\n",
      "ms-xsites (4/0)  3%|▎         | 20.9k/667k [00:01, 13.5kit/s]\u001B[A\n",
      "ms-xsites (4/0)  3%|▎         | 22.6k/667k [00:01, 13.7kit/s]\u001B[A\n",
      "ms-xsites (4/0)  4%|▎         | 24.4k/667k [00:01, 14.0kit/s]\u001B[A\n",
      "ms-xsites (4/0)  4%|▍         | 26.2k/667k [00:01, 14.2kit/s]\u001B[A\n",
      "ms-xsites (4/0)  4%|▍         | 28.0k/667k [00:01, 14.4kit/s]\u001B[A\n",
      "ms-xsites (4/0)  4%|▍         | 29.8k/667k [00:02, 14.6kit/s]\u001B[A\n",
      "ms-xsites (4/0)  5%|▍         | 31.7k/667k [00:02, 14.8kit/s]\u001B[A\n",
      "ms-xsites (4/0)  5%|▌         | 33.5k/667k [00:02, 15.0kit/s]\u001B[A\n",
      "ms-xsites (4/0)  5%|▌         | 35.3k/667k [00:02, 15.1kit/s]\u001B[A\n",
      "ms-xsites (4/0)  6%|▌         | 37.1k/667k [00:02, 15.3kit/s]\u001B[A\n",
      "ms-xsites (4/0)  6%|▌         | 38.9k/667k [00:02, 15.4kit/s]\u001B[A\n",
      "ms-xsites (4/0)  6%|▌         | 40.7k/667k [00:02, 15.5kit/s]\u001B[A\n",
      "ms-xsites (4/0)  6%|▋         | 42.5k/667k [00:02, 15.6kit/s]\u001B[A\n",
      "ms-xsites (4/0)  7%|▋         | 44.2k/667k [00:02, 15.6kit/s]\u001B[A\n",
      "ms-xsites (4/0)  7%|▋         | 45.9k/667k [00:02, 15.7kit/s]\u001B[A\n",
      "ms-xsites (4/0)  7%|▋         | 47.6k/667k [00:03, 15.8kit/s]\u001B[A\n",
      "ms-xsites (4/0)  7%|▋         | 49.5k/667k [00:03, 15.9kit/s]\u001B[A\n",
      "ms-xsites (4/0)  8%|▊         | 51.2k/667k [00:03, 15.9kit/s]\u001B[A\n",
      "ms-xsites (4/0)  8%|▊         | 52.9k/667k [00:03, 15.9kit/s]\u001B[A\n",
      "ms-xsites (4/0)  8%|▊         | 54.7k/667k [00:03, 16.0kit/s]\u001B[A\n",
      "ms-xsites (4/0)  8%|▊         | 56.4k/667k [00:03, 16.0kit/s]\u001B[A\n",
      "ms-xsites (4/0)  9%|▊         | 58.1k/667k [00:03, 16.0kit/s]\u001B[A\n",
      "ms-xsites (4/0)  9%|▉         | 59.8k/667k [00:03, 16.1kit/s]\u001B[A\n",
      "ms-xsites (4/0)  9%|▉         | 61.5k/667k [00:03, 16.1kit/s]\u001B[A\n",
      "ms-xsites (4/0) 10%|▉         | 63.3k/667k [00:03, 16.2kit/s]\u001B[A\n",
      "ms-xsites (4/0) 10%|▉         | 65.1k/667k [00:04, 16.2kit/s]\u001B[A\n",
      "ms-xsites (4/0) 10%|█         | 66.8k/667k [00:04, 16.2kit/s]\u001B[A\n",
      "ms-xsites (4/0) 10%|█         | 68.6k/667k [00:04, 16.3kit/s]\u001B[A\n",
      "ms-xsites (4/0) 11%|█         | 70.4k/667k [00:04, 16.3kit/s]\u001B[A\n",
      "ms-xsites (4/0) 11%|█         | 72.1k/667k [00:04, 16.3kit/s]\u001B[A\n",
      "ms-xsites (4/0) 11%|█         | 73.8k/667k [00:04, 16.3kit/s]\u001B[A\n",
      "ms-xsites (4/0) 11%|█▏        | 75.5k/667k [00:04, 16.3kit/s]\u001B[A\n",
      "ms-xsites (4/0) 12%|█▏        | 77.2k/667k [00:04, 16.3kit/s]\u001B[A\n",
      "ms-xsites (4/0) 12%|█▏        | 79.0k/667k [00:04, 16.4kit/s]\u001B[A\n",
      "ms-xsites (4/0) 12%|█▏        | 80.9k/667k [00:04, 16.4kit/s]\u001B[A\n",
      "ms-xsites (4/0) 12%|█▏        | 82.6k/667k [00:05, 16.5kit/s]\u001B[A\n",
      "ms-xsites (4/0) 13%|█▎        | 84.4k/667k [00:05, 16.5kit/s]\u001B[A\n",
      "ms-xsites (4/0) 13%|█▎        | 86.2k/667k [00:05, 16.5kit/s]\u001B[A\n",
      "ms-xsites (4/0) 13%|█▎        | 87.9k/667k [00:05, 16.6kit/s]\u001B[A\n",
      "ms-xsites (4/0) 13%|█▎        | 89.7k/667k [00:05, 16.6kit/s]\u001B[A\n",
      "ms-xsites (4/0) 14%|█▎        | 91.4k/667k [00:05, 16.6kit/s]\u001B[A\n",
      "ms-xsites (4/0) 14%|█▍        | 93.3k/667k [00:05, 16.6kit/s]\u001B[A\n",
      "ms-xsites (4/0) 14%|█▍        | 95.0k/667k [00:05, 16.7kit/s]\u001B[A\n",
      "ms-xsites (4/0) 15%|█▍        | 96.8k/667k [00:05, 16.7kit/s]\u001B[A\n",
      "ms-xsites (4/0) 15%|█▍        | 98.5k/667k [00:06, 16.7kit/s]\u001B[A\n",
      "ms-xsites (4/0) 15%|█▌        | 100k/667k [00:06, 16.7kit/s] \u001B[A\n",
      "ms-xsites (4/0) 15%|█▌        | 102k/667k [00:06, 16.7kit/s]\u001B[A\n",
      "ms-xsites (4/0) 16%|█▌        | 104k/667k [00:06, 16.7kit/s]\u001B[A\n",
      "ms-xsites (4/0) 16%|█▌        | 105k/667k [00:06, 16.7kit/s]\u001B[A\n",
      "ms-xsites (4/0) 16%|█▌        | 107k/667k [00:06, 16.7kit/s]\u001B[A\n",
      "ms-xsites (4/0) 16%|█▋        | 109k/667k [00:06, 16.7kit/s]\u001B[A\n",
      "ms-xsites (4/0) 17%|█▋        | 111k/667k [00:06, 16.7kit/s]\u001B[A\n",
      "ms-xsites (4/0) 17%|█▋        | 112k/667k [00:06, 16.7kit/s]\u001B[A\n",
      "ms-xsites (4/0) 17%|█▋        | 114k/667k [00:06, 16.7kit/s]\u001B[A\n",
      "ms-xsites (4/0) 17%|█▋        | 116k/667k [00:07, 16.7kit/s]\u001B[A\n",
      "ms-xsites (4/0) 18%|█▊        | 118k/667k [00:07, 16.8kit/s]\u001B[A\n",
      "ms-xsites (4/0) 18%|█▊        | 119k/667k [00:07, 16.8kit/s]\u001B[A\n",
      "ms-xsites (4/0) 18%|█▊        | 121k/667k [00:07, 16.8kit/s]\u001B[A\n",
      "ms-xsites (4/0) 18%|█▊        | 123k/667k [00:07, 16.8kit/s]\u001B[A\n",
      "ms-xsites (4/0) 19%|█▊        | 125k/667k [00:07, 16.8kit/s]\u001B[A\n",
      "ms-xsites (4/0) 19%|█▉        | 126k/667k [00:07, 16.8kit/s]\u001B[A\n",
      "ms-xsites (4/0) 19%|█▉        | 128k/667k [00:07, 16.8kit/s]\u001B[A\n",
      "ms-xsites (4/0) 19%|█▉        | 130k/667k [00:07, 16.8kit/s]\u001B[A\n",
      "ms-xsites (4/0) 20%|█▉        | 132k/667k [00:07, 16.8kit/s]\u001B[A\n",
      "ms-xsites (4/0) 20%|██        | 133k/667k [00:08, 16.8kit/s]\u001B[A\n",
      "ms-xsites (4/0) 20%|██        | 135k/667k [00:08, 16.8kit/s]\u001B[A\n",
      "ms-xsites (4/0) 21%|██        | 137k/667k [00:08, 16.8kit/s]\u001B[A\n",
      "ms-xsites (4/0) 21%|██        | 139k/667k [00:08, 16.8kit/s]\u001B[A\n",
      "ms-xsites (4/0) 21%|██        | 140k/667k [00:08, 16.8kit/s]\u001B[A\n",
      "ms-xsites (4/0) 21%|██▏       | 142k/667k [00:08, 16.9kit/s]\u001B[A\n",
      "ms-xsites (4/0) 22%|██▏       | 144k/667k [00:08, 16.9kit/s]\u001B[A\n",
      "ms-xsites (4/0) 22%|██▏       | 146k/667k [00:08, 16.9kit/s]\u001B[A\n",
      "ms-xsites (4/0) 22%|██▏       | 148k/667k [00:08, 16.9kit/s]\u001B[A\n",
      "ms-xsites (4/0) 22%|██▏       | 149k/667k [00:08, 16.9kit/s]\u001B[A\n",
      "ms-xsites (4/0) 23%|██▎       | 151k/667k [00:09, 16.9kit/s]\u001B[A\n",
      "ms-xsites (4/0) 23%|██▎       | 153k/667k [00:09, 16.9kit/s]\u001B[A\n",
      "ms-xsites (4/0) 23%|██▎       | 155k/667k [00:09, 16.9kit/s]\u001B[A\n",
      "ms-xsites (4/0) 23%|██▎       | 156k/667k [00:09, 17.0kit/s]\u001B[A\n",
      "ms-xsites (4/0) 24%|██▎       | 158k/667k [00:09, 17.0kit/s]\u001B[A\n",
      "ms-xsites (4/0) 24%|██▍       | 160k/667k [00:09, 17.0kit/s]\u001B[A\n",
      "ms-xsites (4/0) 24%|██▍       | 162k/667k [00:09, 17.0kit/s]\u001B[A\n",
      "ms-xsites (4/0) 24%|██▍       | 163k/667k [00:09, 17.0kit/s]\u001B[A\n",
      "ms-xsites (4/0) 25%|██▍       | 165k/667k [00:09, 17.0kit/s]\u001B[A\n",
      "ms-xsites (4/0) 25%|██▌       | 167k/667k [00:09, 17.0kit/s]\u001B[A\n",
      "ms-xsites (4/0) 25%|██▌       | 169k/667k [00:10, 17.0kit/s]\u001B[A\n",
      "ms-xsites (4/0) 26%|██▌       | 170k/667k [00:10, 17.0kit/s]\u001B[A\n",
      "ms-xsites (4/0) 26%|██▌       | 172k/667k [00:10, 17.0kit/s]\u001B[A\n",
      "ms-xsites (4/0) 26%|██▌       | 174k/667k [00:10, 17.0kit/s]\u001B[A\n",
      "ms-xsites (4/0) 26%|██▋       | 176k/667k [00:10, 17.0kit/s]\u001B[A\n",
      "ms-xsites (4/0) 27%|██▋       | 177k/667k [00:10, 17.0kit/s]\u001B[A\n",
      "ms-xsites (4/0) 27%|██▋       | 179k/667k [00:10, 17.1kit/s]\u001B[A\n",
      "ms-xsites (4/0) 27%|██▋       | 181k/667k [00:10, 17.1kit/s]\u001B[A\n",
      "ms-xsites (4/0) 27%|██▋       | 183k/667k [00:10, 17.1kit/s]\u001B[A\n",
      "ms-xsites (4/0) 28%|██▊       | 185k/667k [00:10, 17.1kit/s]\u001B[A\n",
      "ms-xsites (4/0) 28%|██▊       | 186k/667k [00:11, 17.1kit/s]\u001B[A\n",
      "ms-xsites (4/0) 28%|██▊       | 188k/667k [00:11, 17.1kit/s]\u001B[A\n",
      "ms-xsites (4/0) 28%|██▊       | 190k/667k [00:11, 17.1kit/s]\u001B[A\n",
      "ms-xsites (4/0) 29%|██▊       | 192k/667k [00:11, 17.1kit/s]\u001B[A\n",
      "ms-xsites (4/0) 29%|██▉       | 193k/667k [00:11, 17.1kit/s]\u001B[A\n",
      "ms-xsites (4/0) 29%|██▉       | 195k/667k [00:11, 17.1kit/s]\u001B[A\n",
      "ms-xsites (4/0) 30%|██▉       | 197k/667k [00:11, 17.2kit/s]\u001B[A\n",
      "ms-xsites (4/0) 30%|██▉       | 199k/667k [00:11, 17.2kit/s]\u001B[A\n",
      "ms-xsites (4/0) 30%|███       | 201k/667k [00:11, 17.2kit/s]\u001B[A\n",
      "ms-xsites (4/0) 30%|███       | 202k/667k [00:11, 17.2kit/s]\u001B[A\n",
      "ms-xsites (4/0) 31%|███       | 204k/667k [00:12, 17.2kit/s]\u001B[A\n",
      "ms-xsites (4/0) 31%|███       | 206k/667k [00:12, 17.2kit/s]\u001B[A\n",
      "ms-xsites (4/0) 31%|███       | 208k/667k [00:12, 17.2kit/s]\u001B[A\n",
      "ms-xsites (4/0) 31%|███▏      | 209k/667k [00:12, 17.2kit/s]\u001B[A\n",
      "ms-xsites (4/0) 32%|███▏      | 211k/667k [00:12, 17.2kit/s]\u001B[A\n",
      "ms-xsites (4/0) 32%|███▏      | 213k/667k [00:12, 17.2kit/s]\u001B[A\n",
      "ms-xsites (4/0) 32%|███▏      | 215k/667k [00:12, 17.2kit/s]\u001B[A\n",
      "ms-xsites (4/0) 32%|███▏      | 216k/667k [00:12, 17.2kit/s]\u001B[A\n",
      "ms-xsites (4/0) 33%|███▎      | 218k/667k [00:12, 17.2kit/s]\u001B[A\n",
      "ms-xsites (4/0) 33%|███▎      | 220k/667k [00:12, 17.2kit/s]\u001B[A\n",
      "ms-xsites (4/0) 33%|███▎      | 222k/667k [00:13, 17.2kit/s]\u001B[A\n",
      "ms-xsites (4/0) 34%|███▎      | 223k/667k [00:13, 17.2kit/s]\u001B[A\n",
      "ms-xsites (4/0) 34%|███▍      | 225k/667k [00:13, 17.2kit/s]\u001B[A\n",
      "ms-xsites (4/0) 34%|███▍      | 227k/667k [00:13, 17.2kit/s]\u001B[A\n",
      "ms-xsites (4/0) 34%|███▍      | 229k/667k [00:13, 17.2kit/s]\u001B[A\n",
      "ms-xsites (4/0) 35%|███▍      | 231k/667k [00:13, 17.2kit/s]\u001B[A\n",
      "ms-xsites (4/0) 35%|███▍      | 232k/667k [00:13, 17.2kit/s]\u001B[A\n",
      "ms-xsites (4/0) 35%|███▌      | 234k/667k [00:13, 17.2kit/s]\u001B[A\n",
      "ms-xsites (4/0) 35%|███▌      | 236k/667k [00:13, 17.2kit/s]\u001B[A\n",
      "ms-xsites (4/0) 36%|███▌      | 238k/667k [00:13, 17.2kit/s]\u001B[A\n",
      "ms-xsites (4/0) 36%|███▌      | 239k/667k [00:14, 17.3kit/s]\u001B[A\n",
      "ms-xsites (4/0) 36%|███▌      | 241k/667k [00:14, 17.2kit/s]\u001B[A\n",
      "ms-xsites (4/0) 36%|███▋      | 243k/667k [00:14, 17.2kit/s]\u001B[A\n",
      "ms-xsites (4/0) 37%|███▋      | 245k/667k [00:14, 17.2kit/s]\u001B[A\n",
      "ms-xsites (4/0) 37%|███▋      | 246k/667k [00:14, 17.2kit/s]\u001B[A\n",
      "ms-xsites (4/0) 37%|███▋      | 248k/667k [00:14, 17.2kit/s]\u001B[A\n",
      "ms-xsites (4/0) 37%|███▋      | 250k/667k [00:14, 17.2kit/s]\u001B[A\n",
      "ms-xsites (4/0) 38%|███▊      | 252k/667k [00:14, 17.2kit/s]\u001B[A\n",
      "ms-xsites (4/0) 38%|███▊      | 253k/667k [00:14, 17.2kit/s]\u001B[A\n",
      "ms-xsites (4/0) 38%|███▊      | 255k/667k [00:15, 17.2kit/s]\u001B[A\n",
      "ms-xsites (4/0) 39%|███▊      | 257k/667k [00:15, 17.2kit/s]\u001B[A\n",
      "ms-xsites (4/0) 39%|███▉      | 259k/667k [00:15, 17.2kit/s]\u001B[A\n",
      "ms-xsites (4/0) 39%|███▉      | 260k/667k [00:15, 17.2kit/s]\u001B[A\n",
      "ms-xsites (4/0) 39%|███▉      | 262k/667k [00:15, 17.2kit/s]\u001B[A\n",
      "ms-xsites (4/0) 40%|███▉      | 264k/667k [00:15, 17.2kit/s]\u001B[A\n",
      "ms-xsites (4/0) 40%|███▉      | 266k/667k [00:15, 17.2kit/s]\u001B[A\n",
      "ms-xsites (4/0) 40%|████      | 267k/667k [00:15, 17.2kit/s]\u001B[A\n",
      "ms-xsites (4/0) 40%|████      | 269k/667k [00:15, 17.2kit/s]\u001B[A\n",
      "ms-xsites (4/0) 41%|████      | 271k/667k [00:15, 17.2kit/s]\u001B[A\n",
      "ms-xsites (4/0) 41%|████      | 273k/667k [00:16, 17.2kit/s]\u001B[A\n",
      "ms-xsites (4/0) 41%|████      | 274k/667k [00:16, 17.2kit/s]\u001B[A\n",
      "ms-xsites (4/0) 41%|████▏     | 276k/667k [00:16, 17.2kit/s]\u001B[A\n",
      "ms-xsites (4/0) 42%|████▏     | 278k/667k [00:16, 17.2kit/s]\u001B[A\n",
      "ms-xsites (4/0) 42%|████▏     | 280k/667k [00:16, 17.2kit/s]\u001B[A\n",
      "ms-xsites (4/0) 42%|████▏     | 282k/667k [00:16, 17.3kit/s]\u001B[A\n",
      "ms-xsites (4/0) 43%|████▎     | 283k/667k [00:16, 17.3kit/s]\u001B[A\n",
      "ms-xsites (4/0) 43%|████▎     | 285k/667k [00:16, 17.3kit/s]\u001B[A\n",
      "ms-xsites (4/0) 43%|████▎     | 287k/667k [00:16, 17.3kit/s]\u001B[A\n",
      "ms-xsites (4/0) 43%|████▎     | 289k/667k [00:16, 17.3kit/s]\u001B[A\n",
      "ms-xsites (4/0) 44%|████▎     | 291k/667k [00:17, 17.3kit/s]\u001B[A\n",
      "ms-xsites (4/0) 44%|████▍     | 292k/667k [00:17, 17.3kit/s]\u001B[A\n",
      "ms-xsites (4/0) 44%|████▍     | 294k/667k [00:17, 17.3kit/s]\u001B[A\n",
      "ms-xsites (4/0) 44%|████▍     | 296k/667k [00:17, 17.3kit/s]\u001B[A\n",
      "ms-xsites (4/0) 45%|████▍     | 297k/667k [00:17, 17.3kit/s]\u001B[A\n",
      "ms-xsites (4/0) 45%|████▍     | 299k/667k [00:17, 17.3kit/s]\u001B[A\n",
      "ms-xsites (4/0) 45%|████▌     | 301k/667k [00:17, 17.3kit/s]\u001B[A\n",
      "ms-xsites (4/0) 45%|████▌     | 303k/667k [00:17, 17.3kit/s]\u001B[A\n",
      "ms-xsites (4/0) 46%|████▌     | 304k/667k [00:17, 17.3kit/s]\u001B[A\n",
      "ms-xsites (4/0) 46%|████▌     | 306k/667k [00:17, 17.3kit/s]\u001B[A\n",
      "ms-xsites (4/0) 46%|████▌     | 308k/667k [00:18, 17.3kit/s]\u001B[A\n",
      "ms-xsites (4/0) 46%|████▋     | 310k/667k [00:18, 17.3kit/s]\u001B[A\n",
      "ms-xsites (4/0) 47%|████▋     | 311k/667k [00:18, 17.3kit/s]\u001B[A\n",
      "ms-xsites (4/0) 47%|████▋     | 313k/667k [00:18, 17.2kit/s]\u001B[A\n",
      "ms-xsites (4/0) 47%|████▋     | 315k/667k [00:18, 17.2kit/s]\u001B[A\n",
      "ms-xsites (4/0) 47%|████▋     | 317k/667k [00:18, 17.2kit/s]\u001B[A\n",
      "ms-xsites (4/0) 48%|████▊     | 318k/667k [00:18, 17.2kit/s]\u001B[A\n",
      "ms-xsites (4/0) 48%|████▊     | 320k/667k [00:18, 17.2kit/s]\u001B[A\n",
      "ms-xsites (4/0) 48%|████▊     | 322k/667k [00:18, 17.2kit/s]\u001B[A\n",
      "ms-xsites (4/0) 49%|████▊     | 324k/667k [00:18, 17.2kit/s]\u001B[A\n",
      "ms-xsites (4/0) 49%|████▉     | 326k/667k [00:19, 17.3kit/s]\u001B[A\n",
      "ms-xsites (4/0) 49%|████▉     | 327k/667k [00:19, 17.3kit/s]\u001B[A\n",
      "ms-xsites (4/0) 49%|████▉     | 329k/667k [00:19, 17.3kit/s]\u001B[A\n",
      "ms-xsites (4/0) 50%|████▉     | 331k/667k [00:19, 17.3kit/s]\u001B[A\n",
      "ms-xsites (4/0) 50%|████▉     | 333k/667k [00:19, 17.3kit/s]\u001B[A\n",
      "ms-xsites (4/0) 50%|█████     | 335k/667k [00:19, 17.3kit/s]\u001B[A\n",
      "ms-xsites (4/0) 50%|█████     | 336k/667k [00:19, 17.3kit/s]\u001B[A\n",
      "ms-xsites (4/0) 51%|█████     | 338k/667k [00:19, 17.3kit/s]\u001B[A\n",
      "ms-xsites (4/0) 51%|█████     | 340k/667k [00:19, 17.3kit/s]\u001B[A\n",
      "ms-xsites (4/0) 51%|█████▏    | 342k/667k [00:19, 17.3kit/s]\u001B[A\n",
      "ms-xsites (4/0) 52%|█████▏    | 344k/667k [00:20, 17.3kit/s]\u001B[A\n",
      "ms-xsites (4/0) 52%|█████▏    | 345k/667k [00:20, 17.3kit/s]\u001B[A\n",
      "ms-xsites (4/0) 52%|█████▏    | 347k/667k [00:20, 17.3kit/s]\u001B[A\n",
      "ms-xsites (4/0) 52%|█████▏    | 349k/667k [00:20, 17.3kit/s]\u001B[A\n",
      "ms-xsites (4/0) 53%|█████▎    | 351k/667k [00:20, 17.4kit/s]\u001B[A\n",
      "ms-xsites (4/0) 53%|█████▎    | 353k/667k [00:20, 17.3kit/s]\u001B[A\n",
      "ms-xsites (4/0) 53%|█████▎    | 354k/667k [00:20, 17.3kit/s]\u001B[A\n",
      "ms-xsites (4/0) 53%|█████▎    | 356k/667k [00:20, 17.3kit/s]\u001B[A\n",
      "ms-xsites (4/0) 54%|█████▎    | 358k/667k [00:20, 17.3kit/s]\u001B[A\n",
      "ms-xsites (4/0) 54%|█████▍    | 360k/667k [00:21, 17.3kit/s]\u001B[A\n",
      "ms-xsites (4/0) 54%|█████▍    | 361k/667k [00:21, 17.3kit/s]\u001B[A\n",
      "ms-xsites (4/0) 54%|█████▍    | 363k/667k [00:21, 17.3kit/s]\u001B[A\n",
      "ms-xsites (4/0) 55%|█████▍    | 365k/667k [00:21, 17.3kit/s]\u001B[A\n",
      "ms-xsites (4/0) 55%|█████▍    | 367k/667k [00:21, 17.3kit/s]\u001B[A\n",
      "ms-xsites (4/0) 55%|█████▌    | 368k/667k [00:21, 17.3kit/s]\u001B[A\n",
      "ms-xsites (4/0) 55%|█████▌    | 370k/667k [00:21, 17.3kit/s]\u001B[A\n",
      "ms-xsites (4/0) 56%|█████▌    | 372k/667k [00:21, 17.3kit/s]\u001B[A\n",
      "ms-xsites (4/0) 56%|█████▌    | 374k/667k [00:21, 17.3kit/s]\u001B[A\n",
      "ms-xsites (4/0) 56%|█████▋    | 375k/667k [00:21, 17.3kit/s]\u001B[A\n",
      "ms-xsites (4/0) 57%|█████▋    | 377k/667k [00:22, 17.3kit/s]\u001B[A\n",
      "ms-xsites (4/0) 57%|█████▋    | 379k/667k [00:22, 17.3kit/s]\u001B[A\n",
      "ms-xsites (4/0) 57%|█████▋    | 381k/667k [00:22, 17.3kit/s]\u001B[A\n",
      "ms-xsites (4/0) 57%|█████▋    | 382k/667k [00:22, 17.3kit/s]\u001B[A\n",
      "ms-xsites (4/0) 58%|█████▊    | 384k/667k [00:22, 17.3kit/s]\u001B[A\n",
      "ms-xsites (4/0) 58%|█████▊    | 386k/667k [00:22, 17.3kit/s]\u001B[A\n",
      "ms-xsites (4/0) 58%|█████▊    | 388k/667k [00:22, 17.3kit/s]\u001B[A\n",
      "ms-xsites (4/0) 58%|█████▊    | 389k/667k [00:22, 17.3kit/s]\u001B[A\n",
      "ms-xsites (4/0) 59%|█████▊    | 391k/667k [00:22, 17.3kit/s]\u001B[A\n",
      "ms-xsites (4/0) 59%|█████▉    | 393k/667k [00:22, 17.3kit/s]\u001B[A\n",
      "ms-xsites (4/0) 59%|█████▉    | 395k/667k [00:23, 17.3kit/s]\u001B[A\n",
      "ms-xsites (4/0) 59%|█████▉    | 396k/667k [00:23, 17.3kit/s]\u001B[A\n",
      "ms-xsites (4/0) 60%|█████▉    | 398k/667k [00:23, 17.3kit/s]\u001B[A\n",
      "ms-xsites (4/0) 60%|█████▉    | 400k/667k [00:23, 17.3kit/s]\u001B[A\n",
      "ms-xsites (4/0) 60%|██████    | 402k/667k [00:23, 17.3kit/s]\u001B[A\n",
      "ms-xsites (4/0) 61%|██████    | 404k/667k [00:23, 17.4kit/s]\u001B[A\n",
      "ms-xsites (4/0) 61%|██████    | 405k/667k [00:23, 17.4kit/s]\u001B[A\n",
      "ms-xsites (4/0) 61%|██████    | 407k/667k [00:23, 17.4kit/s]\u001B[A\n",
      "ms-xsites (4/0) 61%|██████▏   | 409k/667k [00:23, 17.4kit/s]\u001B[A\n",
      "ms-xsites (4/0) 62%|██████▏   | 411k/667k [00:23, 17.4kit/s]\u001B[A\n",
      "ms-xsites (4/0) 62%|██████▏   | 413k/667k [00:24, 17.4kit/s]\u001B[A\n",
      "ms-xsites (4/0) 62%|██████▏   | 414k/667k [00:24, 17.4kit/s]\u001B[A\n",
      "ms-xsites (4/0) 62%|██████▏   | 416k/667k [00:24, 17.4kit/s]\u001B[A\n",
      "ms-xsites (4/0) 63%|██████▎   | 418k/667k [00:24, 17.4kit/s]\u001B[A\n",
      "ms-xsites (4/0) 63%|██████▎   | 420k/667k [00:24, 17.4kit/s]\u001B[A\n",
      "ms-xsites (4/0) 63%|██████▎   | 422k/667k [00:24, 17.4kit/s]\u001B[A\n",
      "ms-xsites (4/0) 64%|██████▎   | 423k/667k [00:24, 17.4kit/s]\u001B[A\n",
      "ms-xsites (4/0) 64%|██████▍   | 425k/667k [00:24, 17.4kit/s]\u001B[A\n",
      "ms-xsites (4/0) 64%|██████▍   | 427k/667k [00:24, 17.4kit/s]\u001B[A\n",
      "ms-xsites (4/0) 64%|██████▍   | 429k/667k [00:24, 17.4kit/s]\u001B[A\n",
      "ms-xsites (4/0) 65%|██████▍   | 431k/667k [00:25, 17.4kit/s]\u001B[A\n",
      "ms-xsites (4/0) 65%|██████▍   | 432k/667k [00:25, 17.4kit/s]\u001B[A\n",
      "ms-xsites (4/0) 65%|██████▌   | 434k/667k [00:25, 17.4kit/s]\u001B[A\n",
      "ms-xsites (4/0) 65%|██████▌   | 436k/667k [00:25, 17.4kit/s]\u001B[A\n",
      "ms-xsites (4/0) 66%|██████▌   | 438k/667k [00:25, 17.4kit/s]\u001B[A\n",
      "ms-xsites (4/0) 66%|██████▌   | 439k/667k [00:25, 17.3kit/s]\u001B[A\n",
      "ms-xsites (4/0) 66%|██████▌   | 441k/667k [00:25, 17.3kit/s]\u001B[A\n",
      "ms-xsites (4/0) 66%|██████▋   | 443k/667k [00:25, 17.3kit/s]\u001B[A\n",
      "ms-xsites (4/0) 67%|██████▋   | 445k/667k [00:25, 17.3kit/s]\u001B[A\n",
      "ms-xsites (4/0) 67%|██████▋   | 446k/667k [00:26, 17.3kit/s]\u001B[A\n",
      "ms-xsites (4/0) 67%|██████▋   | 448k/667k [00:26, 17.3kit/s]\u001B[A\n",
      "ms-xsites (4/0) 67%|██████▋   | 450k/667k [00:26, 17.3kit/s]\u001B[A\n",
      "ms-xsites (4/0) 68%|██████▊   | 451k/667k [00:26, 17.3kit/s]\u001B[A\n",
      "ms-xsites (4/0) 68%|██████▊   | 453k/667k [00:26, 17.2kit/s]\u001B[A\n",
      "ms-xsites (4/0) 68%|██████▊   | 455k/667k [00:26, 17.2kit/s]\u001B[A\n",
      "ms-xsites (4/0) 68%|██████▊   | 457k/667k [00:26, 17.2kit/s]\u001B[A\n",
      "ms-xsites (4/0) 69%|██████▉   | 458k/667k [00:26, 17.2kit/s]\u001B[A\n",
      "ms-xsites (4/0) 69%|██████▉   | 460k/667k [00:26, 17.2kit/s]\u001B[A\n",
      "ms-xsites (4/0) 69%|██████▉   | 462k/667k [00:26, 17.2kit/s]\u001B[A\n",
      "ms-xsites (4/0) 70%|██████▉   | 464k/667k [00:27, 17.2kit/s]\u001B[A\n",
      "ms-xsites (4/0) 70%|██████▉   | 465k/667k [00:27, 17.2kit/s]\u001B[A\n",
      "ms-xsites (4/0) 70%|███████   | 467k/667k [00:27, 17.2kit/s]\u001B[A\n",
      "ms-xsites (4/0) 70%|███████   | 469k/667k [00:27, 17.2kit/s]\u001B[A\n",
      "ms-xsites (4/0) 71%|███████   | 471k/667k [00:27, 17.2kit/s]\u001B[A\n",
      "ms-xsites (4/0) 71%|███████   | 472k/667k [00:27, 17.2kit/s]\u001B[A\n",
      "ms-xsites (4/0) 71%|███████   | 474k/667k [00:27, 17.2kit/s]\u001B[A\n",
      "ms-xsites (4/0) 71%|███████▏  | 476k/667k [00:27, 17.2kit/s]\u001B[A\n",
      "ms-xsites (4/0) 72%|███████▏  | 478k/667k [00:27, 17.2kit/s]\u001B[A\n",
      "ms-xsites (4/0) 72%|███████▏  | 479k/667k [00:27, 17.2kit/s]\u001B[A\n",
      "ms-xsites (4/0) 72%|███████▏  | 481k/667k [00:28, 17.2kit/s]\u001B[A\n",
      "ms-xsites (4/0) 72%|███████▏  | 483k/667k [00:28, 17.2kit/s]\u001B[A\n",
      "ms-xsites (4/0) 73%|███████▎  | 485k/667k [00:28, 17.2kit/s]\u001B[A\n",
      "ms-xsites (4/0) 73%|███████▎  | 486k/667k [00:28, 17.2kit/s]\u001B[A\n",
      "ms-xsites (4/0) 73%|███████▎  | 488k/667k [00:28, 17.2kit/s]\u001B[A\n",
      "ms-xsites (4/0) 73%|███████▎  | 490k/667k [00:28, 17.2kit/s]\u001B[A\n",
      "ms-xsites (4/0) 74%|███████▎  | 492k/667k [00:28, 17.2kit/s]\u001B[A\n",
      "ms-xsites (4/0) 74%|███████▍  | 493k/667k [00:28, 17.2kit/s]\u001B[A\n",
      "ms-xsites (4/0) 74%|███████▍  | 495k/667k [00:28, 17.2kit/s]\u001B[A\n",
      "ms-xsites (4/0) 75%|███████▍  | 497k/667k [00:29, 17.2kit/s]\u001B[A\n",
      "ms-xsites (4/0) 75%|███████▍  | 499k/667k [00:29, 17.2kit/s]\u001B[A\n",
      "ms-xsites (4/0) 75%|███████▌  | 500k/667k [00:29, 17.2kit/s]\u001B[A\n",
      "ms-xsites (4/0) 75%|███████▌  | 502k/667k [00:29, 17.2kit/s]\u001B[A\n",
      "ms-xsites (4/0) 76%|███████▌  | 504k/667k [00:29, 17.2kit/s]\u001B[A\n",
      "ms-xsites (4/0) 76%|███████▌  | 506k/667k [00:29, 17.2kit/s]\u001B[A\n",
      "ms-xsites (4/0) 76%|███████▌  | 507k/667k [00:29, 17.2kit/s]\u001B[A\n",
      "ms-xsites (4/0) 76%|███████▋  | 509k/667k [00:29, 17.2kit/s]\u001B[A\n",
      "ms-xsites (4/0) 77%|███████▋  | 511k/667k [00:29, 17.2kit/s]\u001B[A\n",
      "ms-xsites (4/0) 77%|███████▋  | 513k/667k [00:29, 17.2kit/s]\u001B[A\n",
      "ms-xsites (4/0) 77%|███████▋  | 515k/667k [00:30, 17.2kit/s]\u001B[A\n",
      "ms-xsites (4/0) 77%|███████▋  | 516k/667k [00:30, 17.2kit/s]\u001B[A\n",
      "ms-xsites (4/0) 78%|███████▊  | 518k/667k [00:30, 17.2kit/s]\u001B[A\n",
      "ms-xsites (4/0) 78%|███████▊  | 520k/667k [00:30, 17.2kit/s]\u001B[A\n",
      "ms-xsites (4/0) 78%|███████▊  | 521k/667k [00:30, 17.2kit/s]\u001B[A\n",
      "ms-xsites (4/0) 78%|███████▊  | 523k/667k [00:30, 17.2kit/s]\u001B[A\n",
      "ms-xsites (4/0) 79%|███████▊  | 525k/667k [00:30, 17.2kit/s]\u001B[A\n",
      "ms-xsites (4/0) 79%|███████▉  | 527k/667k [00:30, 17.2kit/s]\u001B[A\n",
      "ms-xsites (4/0) 79%|███████▉  | 528k/667k [00:30, 17.2kit/s]\u001B[A\n",
      "ms-xsites (4/0) 80%|███████▉  | 530k/667k [00:30, 17.2kit/s]\u001B[A\n",
      "ms-xsites (4/0) 80%|███████▉  | 532k/667k [00:31, 17.2kit/s]\u001B[A\n",
      "ms-xsites (4/0) 80%|████████  | 534k/667k [00:31, 17.2kit/s]\u001B[A\n",
      "ms-xsites (4/0) 80%|████████  | 536k/667k [00:31, 17.2kit/s]\u001B[A\n",
      "ms-xsites (4/0) 81%|████████  | 537k/667k [00:31, 17.2kit/s]\u001B[A\n",
      "ms-xsites (4/0) 81%|████████  | 539k/667k [00:31, 17.2kit/s]\u001B[A\n",
      "ms-xsites (4/0) 81%|████████  | 541k/667k [00:31, 17.3kit/s]\u001B[A\n",
      "ms-xsites (4/0) 81%|████████▏ | 543k/667k [00:31, 17.3kit/s]\u001B[A\n",
      "ms-xsites (4/0) 82%|████████▏ | 545k/667k [00:31, 17.3kit/s]\u001B[A\n",
      "ms-xsites (4/0) 82%|████████▏ | 546k/667k [00:31, 17.3kit/s]\u001B[A\n",
      "ms-xsites (4/0) 82%|████████▏ | 548k/667k [00:31, 17.3kit/s]\u001B[A\n",
      "ms-xsites (4/0) 82%|████████▏ | 550k/667k [00:32, 17.3kit/s]\u001B[A\n",
      "ms-xsites (4/0) 83%|████████▎ | 552k/667k [00:32, 17.3kit/s]\u001B[A\n",
      "ms-xsites (4/0) 83%|████████▎ | 553k/667k [00:32, 17.3kit/s]\u001B[A\n",
      "ms-xsites (4/0) 83%|████████▎ | 555k/667k [00:32, 17.3kit/s]\u001B[A\n",
      "ms-xsites (4/0) 84%|████████▎ | 557k/667k [00:32, 17.3kit/s]\u001B[A\n",
      "ms-xsites (4/0) 84%|████████▍ | 559k/667k [00:32, 17.3kit/s]\u001B[A\n",
      "ms-xsites (4/0) 84%|████████▍ | 561k/667k [00:32, 17.3kit/s]\u001B[A\n",
      "ms-xsites (4/0) 84%|████████▍ | 562k/667k [00:32, 17.3kit/s]\u001B[A\n",
      "ms-xsites (4/0) 85%|████████▍ | 564k/667k [00:32, 17.3kit/s]\u001B[A\n",
      "ms-xsites (4/0) 85%|████████▍ | 566k/667k [00:32, 17.3kit/s]\u001B[A\n",
      "ms-xsites (4/0) 85%|████████▌ | 568k/667k [00:33, 17.3kit/s]\u001B[A\n",
      "ms-xsites (4/0) 85%|████████▌ | 569k/667k [00:33, 17.3kit/s]\u001B[A\n",
      "ms-xsites (4/0) 86%|████████▌ | 571k/667k [00:33, 17.3kit/s]\u001B[A\n",
      "ms-xsites (4/0) 86%|████████▌ | 573k/667k [00:33, 17.3kit/s]\u001B[A\n",
      "ms-xsites (4/0) 86%|████████▌ | 575k/667k [00:33, 17.3kit/s]\u001B[A\n",
      "ms-xsites (4/0) 86%|████████▋ | 577k/667k [00:33, 17.3kit/s]\u001B[A\n",
      "ms-xsites (4/0) 87%|████████▋ | 578k/667k [00:33, 17.3kit/s]\u001B[A\n",
      "ms-xsites (4/0) 87%|████████▋ | 580k/667k [00:33, 17.3kit/s]\u001B[A\n",
      "ms-xsites (4/0) 87%|████████▋ | 582k/667k [00:33, 17.3kit/s]\u001B[A\n",
      "ms-xsites (4/0) 88%|████████▊ | 584k/667k [00:33, 17.3kit/s]\u001B[A\n",
      "ms-xsites (4/0) 88%|████████▊ | 585k/667k [00:34, 17.4kit/s]\u001B[A\n",
      "ms-xsites (4/0) 88%|████████▊ | 587k/667k [00:34, 17.4kit/s]\u001B[A\n",
      "ms-xsites (4/0) 88%|████████▊ | 589k/667k [00:34, 17.4kit/s]\u001B[A\n",
      "ms-xsites (4/0) 89%|████████▊ | 591k/667k [00:34, 17.4kit/s]\u001B[A\n",
      "ms-xsites (4/0) 89%|████████▉ | 592k/667k [00:34, 17.4kit/s]\u001B[A\n",
      "ms-xsites (4/0) 89%|████████▉ | 594k/667k [00:34, 17.4kit/s]\u001B[A\n",
      "ms-xsites (4/0) 89%|████████▉ | 596k/667k [00:34, 17.3kit/s]\u001B[A\n",
      "ms-xsites (4/0) 90%|████████▉ | 598k/667k [00:34, 17.3kit/s]\u001B[A\n",
      "ms-xsites (4/0) 90%|████████▉ | 599k/667k [00:34, 17.3kit/s]\u001B[A\n",
      "ms-xsites (4/0) 90%|█████████ | 601k/667k [00:34, 17.3kit/s]\u001B[A\n",
      "ms-xsites (4/0) 90%|█████████ | 603k/667k [00:35, 17.3kit/s]\u001B[A\n",
      "ms-xsites (4/0) 91%|█████████ | 605k/667k [00:35, 17.3kit/s]\u001B[A\n",
      "ms-xsites (4/0) 91%|█████████ | 607k/667k [00:35, 17.3kit/s]\u001B[A\n",
      "ms-xsites (4/0) 91%|█████████ | 608k/667k [00:35, 17.3kit/s]\u001B[A\n",
      "ms-xsites (4/0) 91%|█████████▏| 610k/667k [00:35, 17.3kit/s]\u001B[A\n",
      "ms-xsites (4/0) 92%|█████████▏| 612k/667k [00:35, 17.3kit/s]\u001B[A\n",
      "ms-xsites (4/0) 92%|█████████▏| 614k/667k [00:35, 17.3kit/s]\u001B[A\n",
      "ms-xsites (4/0) 92%|█████████▏| 615k/667k [00:35, 17.3kit/s]\u001B[A\n",
      "ms-xsites (4/0) 93%|█████████▎| 617k/667k [00:35, 17.3kit/s]\u001B[A\n",
      "ms-xsites (4/0) 93%|█████████▎| 619k/667k [00:35, 17.3kit/s]\u001B[A\n",
      "ms-xsites (4/0) 93%|█████████▎| 620k/667k [00:36, 17.3kit/s]\u001B[A\n",
      "ms-xsites (4/0) 93%|█████████▎| 622k/667k [00:36, 17.3kit/s]\u001B[A\n",
      "ms-xsites (4/0) 94%|█████████▎| 624k/667k [00:36, 17.3kit/s]\u001B[A\n",
      "ms-xsites (4/0) 94%|█████████▍| 626k/667k [00:36, 17.3kit/s]\u001B[A\n",
      "ms-xsites (4/0) 94%|█████████▍| 627k/667k [00:36, 17.3kit/s]\u001B[A\n",
      "ms-xsites (4/0) 94%|█████████▍| 629k/667k [00:36, 17.3kit/s]\u001B[A\n",
      "ms-xsites (4/0) 95%|█████████▍| 631k/667k [00:36, 17.3kit/s]\u001B[A\n",
      "ms-xsites (4/0) 95%|█████████▍| 633k/667k [00:36, 17.3kit/s]\u001B[A\n",
      "ms-xsites (4/0) 95%|█████████▌| 635k/667k [00:36, 17.3kit/s]\u001B[A\n",
      "ms-xsites (4/0) 95%|█████████▌| 636k/667k [00:37, 17.3kit/s]\u001B[A\n",
      "ms-xsites (4/0) 96%|█████████▌| 638k/667k [00:37, 17.3kit/s]\u001B[A\n",
      "ms-xsites (4/0) 96%|█████████▌| 640k/667k [00:37, 17.3kit/s]\u001B[A\n",
      "ms-xsites (4/0) 96%|█████████▌| 641k/667k [00:37, 17.3kit/s]\u001B[A\n",
      "ms-xsites (4/0) 96%|█████████▋| 643k/667k [00:37, 17.3kit/s]\u001B[A\n",
      "ms-xsites (4/0) 97%|█████████▋| 645k/667k [00:37, 17.3kit/s]\u001B[A\n",
      "ms-xsites (4/0) 97%|█████████▋| 647k/667k [00:37, 17.3kit/s]\u001B[A\n",
      "ms-xsites (4/0) 97%|█████████▋| 648k/667k [00:37, 17.3kit/s]\u001B[A\n",
      "ms-xsites (4/0) 98%|█████████▊| 650k/667k [00:37, 17.3kit/s]\u001B[A\n",
      "ms-xsites (4/0) 98%|█████████▊| 652k/667k [00:37, 17.3kit/s]\u001B[A\n",
      "ms-xsites (4/0) 98%|█████████▊| 654k/667k [00:38, 17.3kit/s]\u001B[A\n",
      "ms-xsites (4/0) 98%|█████████▊| 656k/667k [00:38, 17.3kit/s]\u001B[A\n",
      "ms-xsites (4/0) 99%|█████████▊| 657k/667k [00:38, 17.3kit/s]\u001B[A\n",
      "ms-xsites (4/0) 99%|█████████▉| 659k/667k [00:38, 17.3kit/s]\u001B[A\n",
      "ms-xsites (4/0) 99%|█████████▉| 661k/667k [00:38, 17.3kit/s]\u001B[A\n",
      "ms-xsites (4/0) 99%|█████████▉| 663k/667k [00:38, 17.3kit/s]\u001B[A\n",
      "ms-xsites (4/0)100%|█████████▉| 664k/667k [00:38, 17.3kit/s]\u001B[A\n",
      "ms-xsites (4/0)100%|██████████| 667k/667k [00:38, 17.2kit/s]\u001B[A\n"
     ]
    },
    {
     "name": "stdout",
     "output_type": "stream",
     "text": [
      "CPU times: user 49.5 s, sys: 1.45 s, total: 50.9 s\n",
      "Wall time: 48.8 s\n"
     ]
    }
   ],
   "source": [
    "%%time\n",
    "ancestors_ts = tskit.load(\"data/chr22.subset.ancestors.trees\")\n",
    "inf_ts = tsinfer.combine_sample_slices(\n",
    "    sample_data,\n",
    "    ancestors_ts,\n",
    "    slice_paths=[f\"data/chr22.subset.ancestors.1.slice\", f\"data/chr22.subset.ancestors.2.slice\"],\n",
    "    progress_monitor=tsinfer.progress.ProgressMonitor()\n",
    ")\n",
    "inf_ts.dump(\"data/chr22.subset.inferred.trees\")"
   ],
   "metadata": {
    "collapsed": false
   }
  },
  {
   "cell_type": "code",
   "execution_count": 4,
   "outputs": [
    {
     "data": {
      "text/plain": "793802"
     },
     "execution_count": 4,
     "metadata": {},
     "output_type": "execute_result"
    }
   ],
   "source": [
    "inf_ts.num_sites"
   ],
   "metadata": {
    "collapsed": false
   }
  },
  {
   "cell_type": "code",
   "execution_count": 5,
   "outputs": [
    {
     "data": {
      "text/plain": "<tskit.trees.TreeSequence at 0x7f182da0b880>",
      "text/html": "\n            <div>\n              <style>\n                .tskit-table thead tr th {text-align: left;padding: 0.5em 0.5em;}\n                .tskit-table tbody tr td {padding: 0.5em 0.5em;}\n                .tskit-table tbody tr td:first-of-type {text-align: left;}\n                .tskit-details-label {vertical-align: top; padding-right:5px;}\n                .tskit-table-set {display: inline-flex;flex-wrap: wrap;margin: -12px 0 0 -12px;width: calc(100% + 12px);}\n                .tskit-table-set-table {margin: 12px 0 0 12px;}\n                details {display: inline-block;}\n                summary {cursor: pointer; outline: 0; display: list-item;}\n              </style>\n              <div class=\"tskit-table-set\">\n                <div class=\"tskit-table-set-table\">\n                  <table class=\"tskit-table\">\n                    <thead>\n                      <tr>\n                        <th style=\"padding:0;line-height:21px;\">\n                          <img style=\"height: 32px;display: inline-block;padding: 3px 5px 3px 0;\" src=\"https://raw.githubusercontent.com/tskit-dev/administrative/main/tskit_logo.svg\"/>\n                          <a target=\"_blank\" href=\"https://tskit.dev/tskit/docs/latest/python-api.html#the-treesequence-class\"> Tree Sequence </a>\n                        </th>\n                      </tr>\n                    </thead>\n                    <tbody>\n                      <tr><td>Trees</td><td>71651</td></tr>\n                      <tr><td>Sequence Length</td><td>50807930.0</td></tr>\n                      <tr><td>Time Units</td><td>uncalibrated</td></tr>\n                      <tr><td>Sample Nodes</td><td>200</td></tr>\n                      <tr><td>Total Size</td><td>59.9 MiB</td></tr>\n                      <tr>\n                        <td>Metadata</td><td style=\"text-align: left;\">No Metadata</td></tr>\n                    </tbody>\n                  </table>\n                </div>\n                <div class=\"tskit-table-set-table\">\n                  <table class=\"tskit-table\">\n                    <thead>\n                      <tr>\n                        <th style=\"line-height:21px;\">Table</th>\n                        <th>Rows</th>\n                        <th>Size</th>\n                        <th>Has Metadata</th>\n                      </tr>\n                    </thead>\n                    <tbody>\n                    \n                  <tr>\n                    <td>Edges</td>\n                      <td>332290</td>\n                      <td>10.1 MiB</td>\n                      <td style=\"text-align: center;\">\n                        \n                      </td>\n                    </tr>\n                \n                  <tr>\n                    <td>Individuals</td>\n                      <td>100</td>\n                      <td>5.2 KiB</td>\n                      <td style=\"text-align: center;\">\n                        ✅\n                      </td>\n                    </tr>\n                \n                  <tr>\n                    <td>Migrations</td>\n                      <td>0</td>\n                      <td>8 Bytes</td>\n                      <td style=\"text-align: center;\">\n                        \n                      </td>\n                    </tr>\n                \n                  <tr>\n                    <td>Mutations</td>\n                      <td>158688</td>\n                      <td>5.6 MiB</td>\n                      <td style=\"text-align: center;\">\n                        \n                      </td>\n                    </tr>\n                \n                  <tr>\n                    <td>Nodes</td>\n                      <td>68187</td>\n                      <td>3.4 MiB</td>\n                      <td style=\"text-align: center;\">\n                        ✅\n                      </td>\n                    </tr>\n                \n                  <tr>\n                    <td>Populations</td>\n                      <td>0</td>\n                      <td>24 Bytes</td>\n                      <td style=\"text-align: center;\">\n                        \n                      </td>\n                    </tr>\n                \n                  <tr>\n                    <td>Provenances</td>\n                      <td>3</td>\n                      <td>1.7 KiB</td>\n                      <td style=\"text-align: center;\">\n                        \n                      </td>\n                    </tr>\n                \n                  <tr>\n                    <td>Sites</td>\n                      <td>793802</td>\n                      <td>38.2 MiB</td>\n                      <td style=\"text-align: center;\">\n                        ✅\n                      </td>\n                    </tr>\n                \n                    </tbody>\n                  </table>\n                </div>\n              </div>\n            </div>\n            "
     },
     "execution_count": 5,
     "metadata": {},
     "output_type": "execute_result"
    }
   ],
   "source": [
    "inf_ts"
   ],
   "metadata": {
    "collapsed": false
   }
  },
  {
   "cell_type": "code",
   "execution_count": null,
   "outputs": [],
   "source": [],
   "metadata": {
    "collapsed": false
   }
  }
 ],
 "metadata": {
  "kernelspec": {
   "display_name": "Python 3",
   "language": "python",
   "name": "python3"
  },
  "language_info": {
   "codemirror_mode": {
    "name": "ipython",
    "version": 2
   },
   "file_extension": ".py",
   "mimetype": "text/x-python",
   "name": "python",
   "nbconvert_exporter": "python",
   "pygments_lexer": "ipython2",
   "version": "2.7.6"
  }
 },
 "nbformat": 4,
 "nbformat_minor": 0
}
